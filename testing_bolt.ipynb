{
 "cells": [
  {
   "cell_type": "code",
   "execution_count": 13,
   "metadata": {},
   "outputs": [
    {
     "name": "stdout",
     "output_type": "stream",
     "text": [
      "0\n",
      "9\n"
     ]
    }
   ],
   "source": [
    "# check conda connected\n",
    "import numpy as np \n",
    "import pandas as pd \n",
    "\n",
    "print(np.apply_along_axis(lambda row: sum(row)**2, 0, np.arange(9,9,9)))\n",
    "\n",
    "print(9)\n",
    "\n",
    "\n",
    "#Check torch install and running cudas\n",
    "#!pip3 install torch\n",
    "import torch\n",
    "\n",
    "print(\"is gpu?:\",\n",
    "torch.cuda.is_available(),\n",
    "torch.cuda.device_count())\n",
    "\n",
    "#WARN: Can't ssh into google colab "
   ]
  },
  {
   "cell_type": "code",
   "execution_count": 16,
   "metadata": {},
   "outputs": [
    {
     "name": "stdout",
     "output_type": "stream",
     "text": [
      "is gpu?: False 0\n"
     ]
    }
   ],
   "source": []
  }
 ],
 "metadata": {
  "kernelspec": {
   "display_name": "Python 3 (ipykernel)",
   "language": "python",
   "name": "python3"
  },
  "language_info": {
   "codemirror_mode": {
    "name": "ipython",
    "version": 3
   },
   "file_extension": ".py",
   "mimetype": "text/x-python",
   "name": "python",
   "nbconvert_exporter": "python",
   "pygments_lexer": "ipython3",
   "version": "3.9.12"
  },
  "vscode": {
   "interpreter": {
    "hash": "8a6b5a67c5d774b05f6659b16625b575f0390caee0a071a25b205e3940b26b24"
   }
  }
 },
 "nbformat": 4,
 "nbformat_minor": 2
}
