{
 "cells": [
  {
   "cell_type": "code",
   "execution_count": 5,
   "metadata": {},
   "outputs": [
    {
     "name": "stdout",
     "output_type": "stream",
     "text": [
      "0\n",
      "9\n"
     ]
    }
   ],
   "source": [
    "# check conda connected\n",
    "import numpy as np \n",
    "import pandas as pd \n",
    "\n",
    "print(np.apply_along_axis(lambda row: sum(row)**2, 0, np.arange(9,9,9)))\n",
    "\n",
    "print(9)\n",
    "\n",
    "#Check torch install and running cudas\n",
    "import torch\n",
    "\n",
    "print(\n",
    "torch.cuda.is_available(),\n",
    "torch.cuda.device_count()\n",
    ")\n",
    "\n"
   ]
  },
  {
   "cell_type": "code",
   "execution_count": null,
   "metadata": {},
   "outputs": [],
   "source": []
  }
 ],
 "metadata": {
  "kernelspec": {
   "display_name": "Python 3.7.13 ('base')",
   "language": "python",
   "name": "python3"
  },
  "language_info": {
   "codemirror_mode": {
    "name": "ipython",
    "version": 3
   },
   "file_extension": ".py",
   "mimetype": "text/x-python",
   "name": "python",
   "nbconvert_exporter": "python",
   "pygments_lexer": "ipython3",
   "version": "3.7.13"
  },
  "orig_nbformat": 4,
  "vscode": {
   "interpreter": {
    "hash": "c34f8c2944b400dc250e733472d3175f0e83a4ff05b06c8a0d49bd5b209fc43f"
   }
  }
 },
 "nbformat": 4,
 "nbformat_minor": 2
}
